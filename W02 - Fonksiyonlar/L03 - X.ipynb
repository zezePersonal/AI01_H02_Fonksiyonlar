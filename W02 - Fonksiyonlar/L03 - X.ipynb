{
 "cells": [
  {
   "cell_type": "markdown",
   "metadata": {},
   "source": [
    "# Ikinci gun"
   ]
  },
  {
   "cell_type": "code",
   "execution_count": 4,
   "metadata": {},
   "outputs": [
    {
     "name": "stdout",
     "output_type": "stream",
     "text": [
      "test\n"
     ]
    }
   ],
   "source": [
    "# Uygulamalardan devam"
   ]
  },
  {
   "cell_type": "code",
   "execution_count": null,
   "metadata": {},
   "outputs": [],
   "source": [
    "# Uygulama 1\n",
    "\n",
    "# boyaci ornegi \n",
    "'''\n",
    "\n",
    "getCost() fonksiyonu ve parametreleri\n",
    "\n",
    "sqftWalls - boyanacak duvarin toplam metrakaresini ifade eder\n",
    "sqftCeiling - boyanacak tavanin metrekaresini ifade eder\n",
    "sqftPerLt - Her lt icin kac metrekare duvarin boyanacagini ifade eder\n",
    "costPerLt - 1 litre boyanin maliyetini ifade eder\n",
    "\n",
    "'''"
   ]
  },
  {
   "cell_type": "code",
   "execution_count": 37,
   "metadata": {},
   "outputs": [
    {
     "name": "stdout",
     "output_type": "stream",
     "text": [
      "\n",
      "            Evin boyanacak duvar m2si 212.5\n",
      "            Evin boyanacak tavan m2si 122.3\n",
      "            Toplam boyanacak alan 334.8 m2\n",
      "            Bir lt 10 m2 boyar\n",
      "            Gereken litre 33.480000000000004 yani duz hesap 34\n",
      "            Bir litre maliyetimiz $100 ise toplam maliyetimiz $3400\n",
      "          \n",
      "3400\n"
     ]
    }
   ],
   "source": [
    "from math import ceil\n",
    "\n",
    "def getCost(sqftWalls, sqftCeiling, sqftPerLt, costPerLt)->float:  # python'da bu seklide type tanimlanabiliyormus\n",
    "    totalSqFt = sqftWalls+sqftCeiling\n",
    "    totalLt = totalSqFt / sqftPerLt\n",
    "    totalLtCeiled = ceil(totalLt)\n",
    "    totalCost = totalLtCeiled * costPerLt\n",
    "\n",
    "    print(f\"\"\"\n",
    "            Evin boyanacak duvar m2si {sqftWalls}\n",
    "            Evin boyanacak tavan m2si {sqftCeiling}\n",
    "            Toplam boyanacak alan {totalSqFt} m2\n",
    "            Bir lt {sqftPerLt} m2 boyar\n",
    "            Gereken litre {totalLt} yani duz hesap {totalLtCeiled}\n",
    "            Bir litre maliyetimiz ${costPerLt} ise toplam maliyetimiz ${totalCost}\n",
    "          \"\"\")\n",
    "\n",
    "    return totalCost\n",
    "\n",
    "x1 = getCost(sqftWalls=212.50,sqftCeiling=122.3,sqftPerLt=10,costPerLt=100)\n",
    "print(x1)\n",
    "\n",
    "# Hoca hint, docstr gibi kitabi yapti kendi orneginde"
   ]
  },
  {
   "cell_type": "code",
   "execution_count": 38,
   "metadata": {},
   "outputs": [
    {
     "name": "stdout",
     "output_type": "stream",
     "text": [
      "\n",
      "            Evin boyanacak duvar m2si 452.15\n",
      "            Evin boyanacak tavan m2si 144.3\n",
      "            Toplam boyanacak alan 596.45 m2\n",
      "            Bir lt 253.7 m2 boyar\n",
      "            Gereken litre 2.3510051241623966 yani duz hesap 3\n",
      "            Bir litre maliyetimiz $14.7 ise toplam maliyetimiz $44.099999999999994\n",
      "          \n",
      "44.099999999999994\n"
     ]
    }
   ],
   "source": [
    "x2 = getCost(sqftWalls=452.15,sqftCeiling=144.3,sqftPerLt=253.7,costPerLt=14.7)\n",
    "print(x2)\n"
   ]
  },
  {
   "cell_type": "code",
   "execution_count": null,
   "metadata": {},
   "outputs": [],
   "source": [
    "# Uygulama 2\n",
    "'''\n",
    "    Sekillerin alanini hesaplayan bir fonksiyon yazmaniz isteniyor\n",
    "    Dort tane fonksiyon tanimlayin\n",
    "    - dairenin alani\n",
    "    - karenin alani\n",
    "    - dikdortgenin alani\n",
    "    sonra da cagirin\n",
    "'''"
   ]
  },
  {
   "cell_type": "code",
   "execution_count": 50,
   "metadata": {},
   "outputs": [
    {
     "name": "stdout",
     "output_type": "stream",
     "text": [
      "Dairenin alani 12.56dir\n"
     ]
    }
   ],
   "source": [
    "def areaCircle(r:float)->float:\n",
    "    '''\n",
    "        Calculates the area of a circle\n",
    "        Paremeters\n",
    "            r: The radius of a circle\n",
    "        Returns\n",
    "            Returns the area of a circle\n",
    "    '''\n",
    "    pi = 3.14\n",
    "    return pi * r ** 2\n",
    "\n",
    "circleArea = areaCircle(r=2)   \n",
    "print(f\"Dairenin alani {circleArea}dir\")"
   ]
  },
  {
   "cell_type": "code",
   "execution_count": 51,
   "metadata": {},
   "outputs": [
    {
     "name": "stdout",
     "output_type": "stream",
     "text": [
      "Karenin alani 4dir\n"
     ]
    }
   ],
   "source": [
    "def areaSquare(a:float)->float:\n",
    "    '''\n",
    "        Calculates the area of a square\n",
    "        Paremeters\n",
    "            a: The side of a square\n",
    "        Returns\n",
    "            Returns the area of a square\n",
    "    '''\n",
    "    return a ** 2\n",
    "\n",
    "squareArea = areaSquare(a=2)   \n",
    "print(f\"Karenin alani {squareArea}dir\")"
   ]
  },
  {
   "cell_type": "code",
   "execution_count": 46,
   "metadata": {},
   "outputs": [
    {
     "name": "stdout",
     "output_type": "stream",
     "text": [
      "Dikdortgenin alani 6dir\n"
     ]
    }
   ],
   "source": [
    "def areaRectangle(w:float, l:float)->float:\n",
    "    '''\n",
    "        Calculates the area of a rectangle\n",
    "        Paremeters\n",
    "            w: The width of a rectangle\n",
    "            l: The length of a rectangle\n",
    "        Returns\n",
    "            Returns the area of a rectangle\n",
    "    '''\n",
    "    return w * l\n",
    "\n",
    "squareRectangle = areaRectangle(w=2, l=3)   \n",
    "print(f\"Dikdortgenin alani {squareRectangle}dir\")\n"
   ]
  },
  {
   "cell_type": "code",
   "execution_count": 54,
   "metadata": {},
   "outputs": [],
   "source": [
    "# tip guvenligi (implicit) ile Ucgen alani hesaplama\n",
    "\n"
   ]
  },
  {
   "cell_type": "code",
   "execution_count": 61,
   "metadata": {},
   "outputs": [],
   "source": [
    "# https://pypi.org/project/ensure/\n",
    "\n",
    "from ensure import ensure_annotations\n",
    "\n",
    "@ensure_annotations\n",
    "def areaTriangle(w:float, h:float)->float:\n",
    "    '''\n",
    "        Calculates the area of a triangle\n",
    "        Paremeters\n",
    "            w: The width of a triangle\n",
    "            l: The height of a triangle\n",
    "        Returns\n",
    "            Returns the area of a triangle\n",
    "    '''\n",
    "    return w * h / 2\n",
    "\n",
    "\n",
    "\n"
   ]
  },
  {
   "cell_type": "code",
   "execution_count": null,
   "metadata": {},
   "outputs": [
    {
     "ename": "EnsureError",
     "evalue": "Argument w of type <class 'int'> to <function areaTriangle at 0x7dd33ae43b00> does not match annotation type <class 'float'>",
     "output_type": "error",
     "traceback": [
      "\u001b[0;31m---------------------------------------------------------------------------\u001b[0m",
      "\u001b[0;31mEnsureError\u001b[0m                               Traceback (most recent call last)",
      "Cell \u001b[0;32mIn[62], line 1\u001b[0m\n\u001b[0;32m----> 1\u001b[0m x \u001b[38;5;241m=\u001b[39m \u001b[43mareaTriangle\u001b[49m\u001b[43m(\u001b[49m\u001b[43mw\u001b[49m\u001b[38;5;241;43m=\u001b[39;49m\u001b[38;5;241;43m10\u001b[39;49m\u001b[43m,\u001b[49m\u001b[43m \u001b[49m\u001b[43mh\u001b[49m\u001b[38;5;241;43m=\u001b[39;49m\u001b[38;5;241;43m10\u001b[39;49m\u001b[43m)\u001b[49m\n\u001b[1;32m      2\u001b[0m \u001b[38;5;28mprint\u001b[39m(x)\n",
      "File \u001b[0;32m/workspaces/AI01_H02-Fonksiyonlar/h02_venvpython/lib/python3.12/site-packages/ensure/main.py:870\u001b[0m, in \u001b[0;36mWrappedFunctionReturn.__call__\u001b[0;34m(self, *args, **kwargs)\u001b[0m\n\u001b[1;32m    868\u001b[0m     \u001b[38;5;28;01mif\u001b[39;00m \u001b[38;5;129;01mnot\u001b[39;00m \u001b[38;5;28misinstance\u001b[39m(value, templ):\n\u001b[1;32m    869\u001b[0m         msg \u001b[38;5;241m=\u001b[39m \u001b[38;5;124m\"\u001b[39m\u001b[38;5;124mArgument \u001b[39m\u001b[38;5;132;01m{arg}\u001b[39;00m\u001b[38;5;124m of type \u001b[39m\u001b[38;5;132;01m{valt}\u001b[39;00m\u001b[38;5;124m to \u001b[39m\u001b[38;5;132;01m{f}\u001b[39;00m\u001b[38;5;124m \u001b[39m\u001b[38;5;124m\"\u001b[39m \u001b[38;5;124m\"\u001b[39m\u001b[38;5;124mdoes not match annotation type \u001b[39m\u001b[38;5;132;01m{t}\u001b[39;00m\u001b[38;5;124m\"\u001b[39m\n\u001b[0;32m--> 870\u001b[0m         \u001b[38;5;28;01mraise\u001b[39;00m EnsureError(msg\u001b[38;5;241m.\u001b[39mformat(arg\u001b[38;5;241m=\u001b[39marg, f\u001b[38;5;241m=\u001b[39m\u001b[38;5;28mself\u001b[39m\u001b[38;5;241m.\u001b[39mf, t\u001b[38;5;241m=\u001b[39mtempl, valt\u001b[38;5;241m=\u001b[39m\u001b[38;5;28mtype\u001b[39m(value)))\n\u001b[1;32m    872\u001b[0m return_val \u001b[38;5;241m=\u001b[39m \u001b[38;5;28mself\u001b[39m\u001b[38;5;241m.\u001b[39mf(\u001b[38;5;241m*\u001b[39margs, \u001b[38;5;241m*\u001b[39m\u001b[38;5;241m*\u001b[39mkwargs)\n\u001b[1;32m    873\u001b[0m \u001b[38;5;28;01mif\u001b[39;00m \u001b[38;5;129;01mnot\u001b[39;00m \u001b[38;5;28misinstance\u001b[39m(return_val, \u001b[38;5;28mself\u001b[39m\u001b[38;5;241m.\u001b[39mreturn_templ):\n",
      "\u001b[0;31mEnsureError\u001b[0m: Argument w of type <class 'int'> to <function areaTriangle at 0x7dd33ae43b00> does not match annotation type <class 'float'>"
     ]
    }
   ],
   "source": [
    "x = areaTriangle(w=10, h=10)  # integer oldugu icin exception raise oldu\n",
    "print(x)"
   ]
  },
  {
   "cell_type": "code",
   "execution_count": 63,
   "metadata": {},
   "outputs": [
    {
     "name": "stdout",
     "output_type": "stream",
     "text": [
      "50.0\n"
     ]
    }
   ],
   "source": [
    "x = areaTriangle(w=10.0, h=10.0)  # float oldugu icin kabul etti\n",
    "print(x)"
   ]
  },
  {
   "cell_type": "code",
   "execution_count": null,
   "metadata": {},
   "outputs": [],
   "source": [
    "# Mola 14:33-15:00"
   ]
  },
  {
   "cell_type": "code",
   "execution_count": 64,
   "metadata": {},
   "outputs": [
    {
     "name": "stdout",
     "output_type": "stream",
     "text": [
      "test\n"
     ]
    }
   ],
   "source": [
    "# Uygulama\n",
    "'''\n",
    "    Diyelim ki bir restaurant sabibisiniz, ve menude yemekleriniz bulunmakta\n",
    "    2025 yili icin menudeki yemeklerinize zam yapmayi dusunuyorsunuz.\n",
    "    Regulasyona gore tek tip zam yapma zorunlulugu var\n",
    "    Oran %30 Asgari ucret duzeyinde zam yapabilirsiniz\n",
    "    Zam yapacaginiz yemekler luks tuketim olmak zorunda ve bu da aylik olarak degisiyor\n",
    "\n",
    "    Ocak Ayi Zam Senaryosu -> Bonfile fiyati 250 --> %30 --> 325, Antrikota 210\n",
    "    Subat --> Ahtopot 460, karides 570\n",
    "    \n",
    "\n",
    "\n",
    "'''"
   ]
  },
  {
   "cell_type": "code",
   "execution_count": 77,
   "metadata": {},
   "outputs": [
    {
     "name": "stdout",
     "output_type": "stream",
     "text": [
      "\n",
      "        Luks tuketime konu olan Bonfile yemegimiz 2024 yilinda 250.0 iken regulasyona bagli olarak 2025 Ocak ayi itibariyle 0.3 zam yapilarak 325.0 olmustur.\n",
      "        Afiyet olsun.\n",
      "            \n",
      "325.0\n",
      "\n",
      "        Luks tuketime konu olan Antrikot yemegimiz 2024 yilinda 210.0 iken regulasyona bagli olarak 2025 Ocak ayi itibariyle 0.3 zam yapilarak 273.0 olmustur.\n",
      "        Afiyet olsun.\n",
      "            \n",
      "273.0\n",
      "\n",
      "        Luks tuketime konu olan Ahtopot yemegimiz 2024 yilinda 460.0 iken regulasyona bagli olarak 2025 Subat ayi itibariyle 0.3 zam yapilarak 598.0 olmustur.\n",
      "        Afiyet olsun.\n",
      "            \n",
      "598.0\n",
      "\n",
      "        Luks tuketime konu olan Karides yemegimiz 2024 yilinda 570.0 iken regulasyona bagli olarak 2025 Subat ayi itibariyle 0.3 zam yapilarak 741.0 olmustur.\n",
      "        Afiyet olsun.\n",
      "            \n",
      "741.0\n"
     ]
    }
   ],
   "source": [
    "from ensure import ensure_annotations\n",
    "\n",
    "@ensure_annotations\n",
    "def zamYap(zamDonemi:str, urunAdi:str, urunFiyati:float, zamOrani:float)->float:\n",
    "    '''\n",
    "        Luks tuketime konu olan yemege zam yaparak 2025 donemi icin fiyati verir.\n",
    "    Parameters:\n",
    "        urunAdi: Urunun Adi\n",
    "        urunFiyati: Zam Yapilacak Urunun Fiyati\n",
    "        zamOrani: Regulasyona gore belirlenen zam orani\n",
    "    Returns:\n",
    "        Urunun yeni fiyatini verir, aciklama olarak da print eder.\n",
    "    '''\n",
    "    yeniFiyat:float = urunFiyati*(1+zamOrani)\n",
    "    print(f\"\"\"\n",
    "        Luks tuketime konu olan {urunAdi} yemegimiz 2024 yilinda {urunFiyati} iken regulasyona bagli olarak 2025 {zamDonemi} ayi itibariyle {zamOrani} zam yapilarak {yeniFiyat} olmustur.\n",
    "        Afiyet olsun.\n",
    "            \"\"\")\n",
    "    return yeniFiyat\n",
    "\n",
    "x = zamYap(\"Ocak\", \"Bonfile\",250., 0.30)\n",
    "print(x)\n",
    "\n",
    "x = zamYap(\"Ocak\", \"Antrikot\",210., 0.30)\n",
    "print(x)\n",
    "\n",
    "x = zamYap(\"Subat\", \"Ahtopot\",460., 0.30)\n",
    "print(x)\n",
    "\n",
    "x = zamYap(\"Subat\", \"Karides\",570., 0.30)\n",
    "print(x)\n",
    "\n"
   ]
  },
  {
   "cell_type": "code",
   "execution_count": 80,
   "metadata": {},
   "outputs": [
    {
     "name": "stdout",
     "output_type": "stream",
     "text": [
      "<class 'tuple'>\n",
      "(1, 2)\n"
     ]
    }
   ],
   "source": [
    "def sum(x, y):  # python'da birden fazla return edilebiliyor, output tuple\n",
    "    return 1, 2\n",
    "\n",
    "a = sum(1,2)\n",
    "print(type(a))\n",
    "print(a)"
   ]
  },
  {
   "cell_type": "code",
   "execution_count": null,
   "metadata": {},
   "outputs": [],
   "source": [
    "'''\n",
    "    ARGS\n",
    "        Python'da * kullanimi ile yapilabiliyor\n",
    "        ornek print(*values) fonksiyonu\n",
    "\n",
    "\n",
    "'''"
   ]
  },
  {
   "cell_type": "code",
   "execution_count": 82,
   "metadata": {},
   "outputs": [
    {
     "name": "stdout",
     "output_type": "stream",
     "text": [
      "1.0\n"
     ]
    }
   ],
   "source": [
    "#Hoca\n",
    "\n",
    "\n",
    "@ensure_annotations\n",
    "def regulasyon_zami(*luks_yemeklerin_fiyati:float)->float:\n",
    "    '''\n",
    "        Bu fonksiyon 2025 yili regulasyona bagli zam yapar\n",
    "    Parameters:\n",
    "        *luks_yemeklerin_fiyati: Ay icinde belirlenen luks yemeklerin 2024 yili fiyati\n",
    "    Return:\n",
    "        2025 yili yeni tarife fiyatlarini doner. \n",
    "    '''\n",
    "    pass   # bu sekilde pass yapilabilir\n",
    "    \n",
    "\n",
    "\n",
    "x = regulasyon_zami(10.,20.)\n",
    "print(x)"
   ]
  },
  {
   "cell_type": "code",
   "execution_count": 91,
   "metadata": {},
   "outputs": [
    {
     "name": "stdout",
     "output_type": "stream",
     "text": [
      "8\n"
     ]
    }
   ],
   "source": [
    "@ensure_annotations\n",
    "def sayi_toplama(*sayilar: int)->int:\n",
    "    result = 0\n",
    "    for sayi in sayilar:\n",
    "        result = result + sayi\n",
    "    return result\n",
    "\n",
    "x = sayi_toplama(1,3,4)\n",
    "print(x)\n",
    "\n"
   ]
  },
  {
   "cell_type": "code",
   "execution_count": 100,
   "metadata": {},
   "outputs": [
    {
     "name": "stdout",
     "output_type": "stream",
     "text": [
      "13.0\n",
      "26.0\n",
      "1.0\n"
     ]
    }
   ],
   "source": [
    "\n",
    "# pass yapilan fonksiyona geri donduk\n",
    "\n",
    "@ensure_annotations\n",
    "def regulasyon_zami(*luks_yemeklerin_fiyati:float, zamOrani:float=0.30)->float:\n",
    "    '''\n",
    "        Bu fonksiyon 2025 yili regulasyona bagli zam yapar\n",
    "    Parameters:\n",
    "        *luks_yemeklerin_fiyati: Ay icinde belirlenen luks yemeklerin 2024 yili fiyati\n",
    "    Return:\n",
    "        2025 yili yeni tarife fiyatlarini doner. \n",
    "    '''\n",
    "    \n",
    "    for luks_yemek_fiyat in luks_yemeklerin_fiyati:\n",
    "        yeni_fiyat = luks_yemek_fiyat*(1+zamOrani)\n",
    "        print(yeni_fiyat)\n",
    "\n",
    "    return 1.0\n",
    "\n",
    "\n",
    "x = regulasyon_zami(10., 20.)\n",
    "print(x)"
   ]
  },
  {
   "cell_type": "code",
   "execution_count": null,
   "metadata": {},
   "outputs": [],
   "source": [
    "# liste ve tupple olmadigi icin hoca da print ile yapti. * ile args olayi "
   ]
  }
 ],
 "metadata": {
  "kernelspec": {
   "display_name": "h02_venvpython",
   "language": "python",
   "name": "python3"
  },
  "language_info": {
   "codemirror_mode": {
    "name": "ipython",
    "version": 3
   },
   "file_extension": ".py",
   "mimetype": "text/x-python",
   "name": "python",
   "nbconvert_exporter": "python",
   "pygments_lexer": "ipython3",
   "version": "3.12.1"
  }
 },
 "nbformat": 4,
 "nbformat_minor": 2
}
