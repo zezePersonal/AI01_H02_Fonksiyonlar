{
 "cells": [
  {
   "cell_type": "code",
   "execution_count": 1,
   "metadata": {},
   "outputs": [
    {
     "name": "stdout",
     "output_type": "stream",
     "text": [
      "x\n"
     ]
    }
   ],
   "source": [
    "# Uygulamma\n",
    "\n",
    "'''\n",
    "    Float Tipinde verilen sayiyi asagidaki gibi yuvarlayin.\n",
    "'''"
   ]
  },
  {
   "cell_type": "code",
   "execution_count": 2,
   "metadata": {},
   "outputs": [
    {
     "name": "stdout",
     "output_type": "stream",
     "text": [
      "3.14\n"
     ]
    }
   ],
   "source": [
    "pi = 3.1413213123\n",
    "rounded_pi = round(pi, 2)\n",
    "print(rounded_pi)\n",
    "\n",
    "# diyelim ki ben kendi roundumu yazmak istiyorum, 2 gibi ndigit belirtmeden"
   ]
  },
  {
   "cell_type": "code",
   "execution_count": 6,
   "metadata": {},
   "outputs": [
    {
     "name": "stdout",
     "output_type": "stream",
     "text": [
      "3.1413213123\n",
      "3.14\n"
     ]
    }
   ],
   "source": [
    "def yuvarla(f:float):\n",
    "    return round(f,2)\n",
    "\n",
    "print(pi)\n",
    "print(yuvarla(pi))\n",
    "\n",
    "\n",
    "# Hoca: Bu tarz round icin kendi fonksiyonun yazilmasi python'da genelde gorsellestirmelerde default output yerine kendi renk, size gibi durumlarda yaziliyor"
   ]
  },
  {
   "cell_type": "code",
   "execution_count": 7,
   "metadata": {},
   "outputs": [],
   "source": [
    "# Uygulama 2\n",
    "\n",
    "# OS kutuphanesinde makedirs ile\n",
    "\n",
    "from os import makedirs"
   ]
  },
  {
   "cell_type": "code",
   "execution_count": 8,
   "metadata": {},
   "outputs": [],
   "source": [
    "makedirs('folder1')"
   ]
  },
  {
   "cell_type": "code",
   "execution_count": 12,
   "metadata": {},
   "outputs": [],
   "source": [
    "# diyelim ki 10 tane klasor yaratmak istedim\n",
    "\n",
    "mylist = [\"apple\", \"banana\", \"cherry\"]\n",
    "\n",
    "def make_directories(folderList:list):\n",
    "    for folder in folderList:\n",
    "        makedirs(folder)"
   ]
  },
  {
   "cell_type": "code",
   "execution_count": 13,
   "metadata": {},
   "outputs": [],
   "source": [
    "make_directories(mylist)"
   ]
  },
  {
   "cell_type": "code",
   "execution_count": 14,
   "metadata": {},
   "outputs": [],
   "source": [
    "make_directories(['elma', 'armut'])"
   ]
  },
  {
   "cell_type": "code",
   "execution_count": 15,
   "metadata": {},
   "outputs": [],
   "source": [
    "# Uygulama 3\n",
    "\n",
    "'''\n",
    "    3 tane cocuk toplamta 91 tane sekeri kisi basina 30 tane olarak paylasiyor, sona kalan 1 sekeri 3'e kirarak aliyor\n",
    "    full metin hoca dosyasinda\n",
    "'''\n"
   ]
  },
  {
   "cell_type": "code",
   "execution_count": 17,
   "metadata": {},
   "outputs": [
    {
     "name": "stdout",
     "output_type": "stream",
     "text": [
      "1\n"
     ]
    }
   ],
   "source": [
    "def kalanSeker(sekerSayisi:int, cocukSayisi:int):\n",
    "    return sekerSayisi % cocukSayisi\n",
    "\n",
    "print(kalanSeker(91,3))"
   ]
  },
  {
   "cell_type": "code",
   "execution_count": 24,
   "metadata": {},
   "outputs": [
    {
     "name": "stdout",
     "output_type": "stream",
     "text": [
      "120000.0\n",
      "160000.0\n"
     ]
    }
   ],
   "source": [
    "# Uygulama 4\n",
    "\n",
    "#  gecen hafta yapilan ev fiyati orneginin fonksiyonlastirilmis hali\n",
    "\n",
    "base_price = 80000.\n",
    "bedroom_cnt = 30000.\n",
    "bathroom_cnt = 10000.\n",
    "basement_price = 40000.\n",
    "\n",
    "def calculate_house_price(bedroom_cnt:int, bathroom_cnt:int, basement:bool):\n",
    "    base_price = 80000.\n",
    "    bedroom_price = 30000.\n",
    "    bathroom_price = 10000.\n",
    "    basement_price = 40000.\n",
    "\n",
    "    price = base_price + bedroom_cnt * bedroom_price + bathroom_cnt * bathroom_price + basement * basement_price\n",
    "\n",
    "    return price\n",
    "\n",
    "ornekEv1 = calculate_house_price(1,1,False)\n",
    "print(ornekEv1)\n",
    "    \n",
    "ornekEv2 = calculate_house_price(1,1,True)\n",
    "print(ornekEv2)\n"
   ]
  },
  {
   "cell_type": "code",
   "execution_count": null,
   "metadata": {},
   "outputs": [],
   "source": [
    "# Uygulama 5\n",
    "# Simple Calculator\n",
    "\n",
    "# Dosyalari \"SimpleCalculator\" klasoru ve main.py"
   ]
  }
 ],
 "metadata": {
  "kernelspec": {
   "display_name": "h02_venvpython",
   "language": "python",
   "name": "python3"
  },
  "language_info": {
   "codemirror_mode": {
    "name": "ipython",
    "version": 3
   },
   "file_extension": ".py",
   "mimetype": "text/x-python",
   "name": "python",
   "nbconvert_exporter": "python",
   "pygments_lexer": "ipython3",
   "version": "3.12.1"
  }
 },
 "nbformat": 4,
 "nbformat_minor": 2
}
