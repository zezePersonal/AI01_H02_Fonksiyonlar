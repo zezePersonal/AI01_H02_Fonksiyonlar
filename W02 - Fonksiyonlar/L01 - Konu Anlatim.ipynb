{
 "cells": [
  {
   "cell_type": "markdown",
   "metadata": {},
   "source": [
    "### Fonksiyonlar Konu Anlatim"
   ]
  },
  {
   "cell_type": "markdown",
   "metadata": {},
   "source": [
    "## Fonksiyonlar Tanim\n",
    "\n",
    "Kodlarimizi tekrar organize etmek icin fonksiyonlarimizi olusturuyoruz. Ozel islemlerinizi fonksiyonlar olusturarak yapiyoruz. Birbirini tekrarlayan isleri surekli tekrar tekrar yazmak yerine fonksiyon icerisinde olusturup o fonksiyonu isimize yaradigi zaman cagirarak tekrar tekrar yaptirabiliriz."
   ]
  },
  {
   "cell_type": "code",
   "execution_count": null,
   "metadata": {},
   "outputs": [],
   "source": [
    "'''\n",
    "    Fonksiyona Girislerde Anahtar Kelimeler:\n",
    "\n",
    "    - def --> Fonksiyonu yazmaya baslarken kullanilir, definition kisaltmasidir, tanimlama anlamina gelir.\n",
    "    - parametre --> Fonksiyonu cagirdigin zaman belirsiz degiskenin yerine gelecek sayiyi temsil eden yapidir.\n",
    "    - return --> Fonksiyonun sonuna ulasildiginda hangi sabit degeri sonuc olarak tutmasi gerekiyor, bunu belirleyen bir yapidir.\n",
    "'''"
   ]
  },
  {
   "cell_type": "code",
   "execution_count": 6,
   "metadata": {},
   "outputs": [
    {
     "name": "stdout",
     "output_type": "stream",
     "text": [
      "13\n"
     ]
    }
   ],
   "source": [
    "# Herhangi bir sayiya 3 ekleyen bir fonksiyon yazalim.\n",
    "\n",
    "def add_three(aNumber:int):  # Fonksiyon HEAD kismi, alti da HINT section\n",
    "    '''\n",
    "        This function adds three to the aNumber argument.\n",
    "    '''\n",
    "    result =  aNumber+3  # BODY part\n",
    "    return result\n",
    "\n",
    "i = add_three(10)\n",
    "print(i)"
   ]
  },
  {
   "cell_type": "code",
   "execution_count": 7,
   "metadata": {},
   "outputs": [
    {
     "data": {
      "text/plain": [
       "function"
      ]
     },
     "execution_count": 7,
     "metadata": {},
     "output_type": "execute_result"
    }
   ],
   "source": [
    "type(add_three)"
   ]
  },
  {
   "cell_type": "code",
   "execution_count": null,
   "metadata": {},
   "outputs": [],
   "source": [
    "# Fonksiyonu cagirirken ilk olarak fonksiyonu tanimladigimiz zaman fonksiyon ismine ne verdiysek onunla cagirma yapiyoruz.\n",
    "# daha sonra parantez acip parametre olarak ne verdiysek o parametreye karsilik verecek bir deger veriyoruz\n",
    "# bu degeri de python'da arguman denir, bazi yerlerde args olarak gorebilirsiniz\n",
    "\n",
    "# hint kullanimi islendi, fonksiyonlarda."
   ]
  },
  {
   "cell_type": "code",
   "execution_count": 8,
   "metadata": {},
   "outputs": [
    {
     "name": "stdout",
     "output_type": "stream",
     "text": [
      "13\n"
     ]
    }
   ],
   "source": [
    "# su sekilde de yazilabilir python kullaniminda (aNumber=10)\n",
    "\n",
    "i = add_three(aNumber=10)\n",
    "print(i)"
   ]
  },
  {
   "cell_type": "code",
   "execution_count": null,
   "metadata": {},
   "outputs": [],
   "source": [
    "# neden return kullandik\n",
    "# return yerine direkt sonucu print etseydik de olurdu ornegi"
   ]
  },
  {
   "cell_type": "code",
   "execution_count": 10,
   "metadata": {},
   "outputs": [
    {
     "name": "stdout",
     "output_type": "stream",
     "text": [
      "5\n"
     ]
    }
   ],
   "source": [
    "def add_two_numbers_print(number1:int, number2: int):\n",
    "    result = number1 + number2\n",
    "    print(result)\n",
    "\n",
    "add_two_numbers_print(2, 3)"
   ]
  },
  {
   "cell_type": "code",
   "execution_count": 11,
   "metadata": {},
   "outputs": [
    {
     "name": "stdout",
     "output_type": "stream",
     "text": [
      "7\n",
      "None\n"
     ]
    }
   ],
   "source": [
    "result = add_two_numbers_print(3, 4)\n",
    "print(result)  # None ornegi, aslinda unassigned lik durumu"
   ]
  },
  {
   "cell_type": "code",
   "execution_count": 12,
   "metadata": {},
   "outputs": [
    {
     "name": "stdout",
     "output_type": "stream",
     "text": [
      "9\n"
     ]
    }
   ],
   "source": [
    "def substract_two_numbers_proper(number1: int, number2: int):\n",
    "    result = number1 - number2\n",
    "    return result\n",
    "\n",
    "result = substract_two_numbers_proper(10, 1)\n",
    "print(result)\n",
    "\n",
    "# Bu yonetimin daha dogru bir kodlama oldugu uzerine deginildi."
   ]
  },
  {
   "cell_type": "code",
   "execution_count": 13,
   "metadata": {},
   "outputs": [
    {
     "name": "stdout",
     "output_type": "stream",
     "text": [
      "\n",
      "            Title   : Developer\n",
      "            Employee: Ahmet Hamdi\n",
      "            Salary  : 10000.0\n",
      "\n",
      "          \n"
     ]
    }
   ],
   "source": [
    "# Bilgilendirme amacli fonksiyon ornegi\n",
    "\n",
    "def show_Employee_Info(name: str, surname: str, salary: float, title: str):\n",
    "    print(f\"\"\"\n",
    "            Title   : {title}\n",
    "            Employee: {name} {surname}\n",
    "            Salary  : {salary}\n",
    "\n",
    "          \"\"\")\n",
    "    \n",
    "emp1 = show_Employee_Info('Ahmet', 'Hamdi', 10000., 'Developer')"
   ]
  },
  {
   "cell_type": "code",
   "execution_count": 14,
   "metadata": {},
   "outputs": [],
   "source": [
    "# MOla 14:15 - 14:40"
   ]
  },
  {
   "cell_type": "code",
   "execution_count": 1,
   "metadata": {},
   "outputs": [],
   "source": [
    "# Maas Hesaplama Ornek Uygulamasi yapalim\n",
    "\n",
    "# Dielim ki bir sirketteki calisanlarin maasinin vergisi cikarildiktan sonraki halini hesaplamak istiyorum, yani net maas\n",
    "# Haftalik maastan %10 vergi kesiliyor, \n",
    "# Bu arkadasimiz saatte $15 kazaniyor dusunelim, haftalik net maasini hesaplayalim"
   ]
  },
  {
   "cell_type": "code",
   "execution_count": 12,
   "metadata": {},
   "outputs": [
    {
     "name": "stdout",
     "output_type": "stream",
     "text": [
      "Emp1'in maasi 540.0 dir\n",
      "Emp2'in maasi 504.0 dir\n"
     ]
    }
   ],
   "source": [
    "def calculate_salary(hourly_salary:float, weekly_working_hour:int):\n",
    "    tax_rate:float = 0.10\n",
    "    result = hourly_salary * (1-tax_rate) * weekly_working_hour\n",
    "    return result\n",
    "\n",
    "emp1_salary = calculate_salary(15.0, 40)\n",
    "emp2_salary = calculate_salary(14.0, 40)\n",
    "print(f\"Emp1'in maasi {emp1_salary} dir\")\n",
    "print(f\"Emp2'in maasi {emp2_salary} dir\")\n",
    "\n",
    "# Veri yuzdesi de statik yerine parametrik olabilir, hoca o ornegi de yapti"
   ]
  },
  {
   "cell_type": "code",
   "execution_count": null,
   "metadata": {},
   "outputs": [],
   "source": [
    "# Uygulalara\n"
   ]
  }
 ],
 "metadata": {
  "kernelspec": {
   "display_name": "Python 3",
   "language": "python",
   "name": "python3"
  },
  "language_info": {
   "codemirror_mode": {
    "name": "ipython",
    "version": 3
   },
   "file_extension": ".py",
   "mimetype": "text/x-python",
   "name": "python",
   "nbconvert_exporter": "python",
   "pygments_lexer": "ipython3",
   "version": "3.12.1"
  }
 },
 "nbformat": 4,
 "nbformat_minor": 2
}
